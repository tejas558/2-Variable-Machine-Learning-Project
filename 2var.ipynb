{
 "cells": [
  {
   "cell_type": "markdown",
   "metadata": {},
   "source": [
    "Welcome to the two variable machine learning regression project!"
   ]
  },
  {
   "cell_type": "markdown",
   "metadata": {},
   "source": [
    "First, we need to implement the necessary libraries which are needed in order to make and implement a deep learning model that can be used to perform regression.\n",
    "\n",
    "Tensorflow is the library created by Google which implements machine learning functions.\n",
    "\n",
    "Numpy is a library to manage and create arrays.\n",
    "\n",
    "Keras is the modeling tool which consists of multiple models which are used for deep learning."
   ]
  },
  {
   "cell_type": "code",
   "execution_count": null,
   "metadata": {},
   "outputs": [],
   "source": [
    "import tensorflow as tf\n",
    "import numpy as np\n",
    "from tensorflow import keras"
   ]
  },
  {
   "cell_type": "markdown",
   "metadata": {},
   "source": [
    "Here is the creation of a machine learning model.\n",
    "\n",
    "In this piece of code we create a 1 layer neural network. This neural network is what will create a functiont that can be used to predict values by adjusting weights appropriatly. For this model we will be using stochastic gradient descent for coming up with a function and mean squared error will be used in order to penalize the model for outputtnig wrong values"
   ]
  },
  {
   "cell_type": "code",
   "execution_count": null,
   "metadata": {},
   "outputs": [],
   "source": [
    "model = tf.keras.Sequential([keras.layers.Dense(units = 1, input_shape=[1])])\n",
    "model.compile(optimizer='sgd', loss='mean_squared_error')"
   ]
  },
  {
   "cell_type": "markdown",
   "metadata": {},
   "source": [
    "Here is the data set which I have prepared.\n",
    "\n",
    "x contains the x-values. y contains the y-values.\n",
    "\n",
    "We want to predict the value of y by giving the values of x. We do this by training the model above on this data set."
   ]
  },
  {
   "cell_type": "code",
   "execution_count": null,
   "metadata": {},
   "outputs": [],
   "source": [
    "x = np.array([-1.0, 0.0, 1.0, 2.0, 3.0, 4.0])\n",
    "y = np.array([1.0, 4.0, 7.0, 10.0, 13.0, 16.0])\n"
   ]
  },
  {
   "cell_type": "markdown",
   "metadata": {},
   "source": [
    "The model now needs to be trained.\n",
    "\n",
    "This model was trained 1,000 times on this dataset in order to get a high accuracy model that can predict values."
   ]
  },
  {
   "cell_type": "code",
   "execution_count": null,
   "metadata": {},
   "outputs": [],
   "source": [
    "model.fit(x, y, epochs=1000)"
   ]
  },
  {
   "cell_type": "markdown",
   "metadata": {},
   "source": [
    "Now that we have a trained model, we can use it to predict values.\n",
    "\n",
    "This code below will predict the value of y for the x value of '10' and give a guess. \n",
    "\n",
    "This can be used to test if the model is working."
   ]
  },
  {
   "cell_type": "code",
   "execution_count": null,
   "metadata": {},
   "outputs": [],
   "source": [
    "print(model.predict([10.0]))"
   ]
  }
 ],
 "metadata": {
  "interpreter": {
   "hash": "ebd9d79b859f8efc2afd7bf4a2e985aba981a6dbb4a495099f93755ea26fa4ce"
  },
  "kernelspec": {
   "display_name": "Python 3.9.9 64-bit (windows store)",
   "language": "python",
   "name": "python3"
  },
  "language_info": {
   "name": "python",
   "version": "3.9.9"
  },
  "orig_nbformat": 4
 },
 "nbformat": 4,
 "nbformat_minor": 2
}
